{
 "cells": [
  {
   "cell_type": "code",
   "execution_count": null,
   "id": "22191990",
   "metadata": {},
   "outputs": [
    {
     "name": "stdout",
     "output_type": "stream",
     "text": [
      " * Serving Flask app '__main__'\n",
      " * Debug mode: on\n"
     ]
    },
    {
     "name": "stderr",
     "output_type": "stream",
     "text": [
      "WARNING: This is a development server. Do not use it in a production deployment. Use a production WSGI server instead.\n",
      " * Running on http://127.0.0.1:5000\n",
      "Press CTRL+C to quit\n",
      "127.0.0.1 - - [10/Dec/2023 16:43:56] \"GET / HTTP/1.1\" 200 -\n",
      "127.0.0.1 - - [10/Dec/2023 16:43:56] \"GET /static/back1.jpeg HTTP/1.1\" 304 -\n",
      "127.0.0.1 - - [10/Dec/2023 16:43:56] \"GET /static/logo.png HTTP/1.1\" 304 -\n",
      "127.0.0.1 - - [10/Dec/2023 16:43:56] \"GET /favicon.ico HTTP/1.1\" 404 -\n",
      "127.0.0.1 - - [10/Dec/2023 16:47:16] \"GET /about HTTP/1.1\" 200 -\n",
      "127.0.0.1 - - [10/Dec/2023 16:47:16] \"GET /static/logo.png HTTP/1.1\" 304 -\n",
      "127.0.0.1 - - [10/Dec/2023 16:47:16] \"GET /static/back2.jpeg HTTP/1.1\" 304 -\n",
      "127.0.0.1 - - [10/Dec/2023 16:47:17] \"GET /data HTTP/1.1\" 500 -\n",
      "Traceback (most recent call last):\n",
      "  File \"/Users/jigardonga/anaconda3/lib/python3.11/site-packages/flask/app.py\", line 1478, in __call__\n",
      "    return self.wsgi_app(environ, start_response)\n",
      "           ^^^^^^^^^^^^^^^^^^^^^^^^^^^^^^^^^^^^^^\n",
      "  File \"/Users/jigardonga/anaconda3/lib/python3.11/site-packages/flask/app.py\", line 1458, in wsgi_app\n",
      "    response = self.handle_exception(e)\n",
      "               ^^^^^^^^^^^^^^^^^^^^^^^^\n",
      "  File \"/Users/jigardonga/anaconda3/lib/python3.11/site-packages/flask/app.py\", line 1455, in wsgi_app\n",
      "    response = self.full_dispatch_request()\n",
      "               ^^^^^^^^^^^^^^^^^^^^^^^^^^^^\n",
      "  File \"/Users/jigardonga/anaconda3/lib/python3.11/site-packages/flask/app.py\", line 869, in full_dispatch_request\n",
      "    rv = self.handle_user_exception(e)\n",
      "         ^^^^^^^^^^^^^^^^^^^^^^^^^^^^^\n",
      "  File \"/Users/jigardonga/anaconda3/lib/python3.11/site-packages/flask/app.py\", line 867, in full_dispatch_request\n",
      "    rv = self.dispatch_request()\n",
      "         ^^^^^^^^^^^^^^^^^^^^^^^\n",
      "  File \"/Users/jigardonga/anaconda3/lib/python3.11/site-packages/flask/app.py\", line 852, in dispatch_request\n",
      "    return self.ensure_sync(self.view_functions[rule.endpoint])(**view_args)\n",
      "           ^^^^^^^^^^^^^^^^^^^^^^^^^^^^^^^^^^^^^^^^^^^^^^^^^^^^^^^^^^^^^^^^^\n",
      "  File \"/var/folders/dd/w6zdfjyx2gx4xh2sdzcj06xr0000gn/T/ipykernel_2412/3815251527.py\", line 21, in data\n",
      "    conn = sqlite3.connect(file_path)\n",
      "           ^^^^^^^^^^^^^^^^^^^^^^^^^^\n",
      "sqlite3.OperationalError: unable to open database file\n",
      "127.0.0.1 - - [10/Dec/2023 16:47:17] \"GET /data?__debugger__=yes&cmd=resource&f=style.css HTTP/1.1\" 304 -\n",
      "127.0.0.1 - - [10/Dec/2023 16:47:17] \"GET /data?__debugger__=yes&cmd=resource&f=debugger.js HTTP/1.1\" 200 -\n",
      "127.0.0.1 - - [10/Dec/2023 16:47:17] \"GET /data?__debugger__=yes&cmd=resource&f=console.png HTTP/1.1\" 304 -\n",
      "127.0.0.1 - - [10/Dec/2023 16:47:17] \"GET /data?__debugger__=yes&cmd=resource&f=console.png HTTP/1.1\" 304 -\n",
      "127.0.0.1 - - [10/Dec/2023 16:47:38] \"GET /about HTTP/1.1\" 200 -\n",
      "127.0.0.1 - - [10/Dec/2023 16:47:38] \"GET /static/logo.png HTTP/1.1\" 304 -\n",
      "127.0.0.1 - - [10/Dec/2023 16:47:38] \"GET /static/back2.jpeg HTTP/1.1\" 304 -\n",
      "127.0.0.1 - - [10/Dec/2023 16:47:39] \"GET /about HTTP/1.1\" 200 -\n",
      "127.0.0.1 - - [10/Dec/2023 16:47:39] \"GET /static/logo.png HTTP/1.1\" 304 -\n",
      "127.0.0.1 - - [10/Dec/2023 16:47:39] \"GET /static/back2.jpeg HTTP/1.1\" 304 -\n",
      "127.0.0.1 - - [10/Dec/2023 16:47:40] \"GET / HTTP/1.1\" 200 -\n",
      "127.0.0.1 - - [10/Dec/2023 16:47:40] \"GET /static/logo.png HTTP/1.1\" 304 -\n",
      "127.0.0.1 - - [10/Dec/2023 16:47:40] \"GET /static/back1.jpeg HTTP/1.1\" 304 -\n",
      "127.0.0.1 - - [10/Dec/2023 16:47:42] \"GET / HTTP/1.1\" 200 -\n",
      "127.0.0.1 - - [10/Dec/2023 16:47:42] \"GET /static/logo.png HTTP/1.1\" 304 -\n",
      "127.0.0.1 - - [10/Dec/2023 16:47:42] \"GET /static/back1.jpeg HTTP/1.1\" 304 -\n",
      "127.0.0.1 - - [10/Dec/2023 16:47:43] \"GET /about HTTP/1.1\" 200 -\n",
      "127.0.0.1 - - [10/Dec/2023 16:47:43] \"GET /static/logo.png HTTP/1.1\" 304 -\n",
      "127.0.0.1 - - [10/Dec/2023 16:47:43] \"GET /static/back2.jpeg HTTP/1.1\" 304 -\n",
      "127.0.0.1 - - [10/Dec/2023 16:47:44] \"GET / HTTP/1.1\" 200 -\n",
      "127.0.0.1 - - [10/Dec/2023 16:47:44] \"GET /static/logo.png HTTP/1.1\" 304 -\n",
      "127.0.0.1 - - [10/Dec/2023 16:47:44] \"GET /static/back1.jpeg HTTP/1.1\" 304 -\n"
     ]
    }
   ],
   "source": [
    "pip install --upgrade watchdog\n",
    "pip install gunicorn\n",
    "\n",
    "\n",
    "\n",
    "\n",
    "from flask import Flask, render_template\n",
    "from pathlib import Path\n",
    "import sqlite3\n",
    "\n",
    "base_path = Path.cwd()\n",
    "db_name = \"Book.db\"\n",
    "file_path = base_path / \"database\" / db_name\n",
    "\n",
    "app = Flask(__name__)\n",
    "\n",
    "@app.route(\"/\")\n",
    "def index():\n",
    "    return render_template(\"index.html\")\n",
    "\n",
    "@app.route(\"/about\")\n",
    "def about():\n",
    "    return render_template(\"about.html\")\n",
    "\n",
    "@app.route(\"/data\")\n",
    "def data():\n",
    "    conn = sqlite3.connect(file_path)\n",
    "    cursor = conn.cursor()\n",
    "    books = cursor.execute(\"SELECT * FROM books\").fetchall()\n",
    "\n",
    "    conn.close()\n",
    "\n",
    "    return render_template(\"data.html\", books = books)\n",
    "    \n",
    "if __name__ == \"__main__\":\n",
    "    app.run(debug=True, use_reloader=False)\n"
   ]
  },
  {
   "cell_type": "code",
   "execution_count": 2,
   "id": "1ff2da57",
   "metadata": {},
   "outputs": [
    {
     "name": "stdout",
     "output_type": "stream",
     "text": [
      "Requirement already satisfied: watchdog in /Users/jigardonga/anaconda3/lib/python3.11/site-packages (3.0.0)\n",
      "Note: you may need to restart the kernel to use updated packages.\n"
     ]
    }
   ],
   "source": [
    "pip install --upgrade watchdog"
   ]
  },
  {
   "cell_type": "code",
   "execution_count": 1,
   "id": "7b95923d",
   "metadata": {},
   "outputs": [
    {
     "name": "stdout",
     "output_type": "stream",
     "text": [
      "Requirement already satisfied: gunicorn in /Users/jigardonga/anaconda3/lib/python3.11/site-packages (21.2.0)\n",
      "Requirement already satisfied: packaging in /Users/jigardonga/anaconda3/lib/python3.11/site-packages (from gunicorn) (23.0)\n",
      "Note: you may need to restart the kernel to use updated packages.\n"
     ]
    }
   ],
   "source": [
    "pip install gunicorn"
   ]
  },
  {
   "cell_type": "code",
   "execution_count": null,
   "id": "c183c9f7",
   "metadata": {},
   "outputs": [],
   "source": []
  }
 ],
 "metadata": {
  "kernelspec": {
   "display_name": "Python 3 (ipykernel)",
   "language": "python",
   "name": "python3"
  },
  "language_info": {
   "codemirror_mode": {
    "name": "ipython",
    "version": 3
   },
   "file_extension": ".py",
   "mimetype": "text/x-python",
   "name": "python",
   "nbconvert_exporter": "python",
   "pygments_lexer": "ipython3",
   "version": "3.11.4"
  }
 },
 "nbformat": 4,
 "nbformat_minor": 5
}
