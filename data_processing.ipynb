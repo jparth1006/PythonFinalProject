{
 "cells": [
  {
   "cell_type": "code",
   "execution_count": 1,
   "id": "0c78b609",
   "metadata": {},
   "outputs": [],
   "source": [
    "import pandas as pd"
   ]
  },
  {
   "cell_type": "code",
   "execution_count": null,
   "id": "7b300ced",
   "metadata": {},
   "outputs": [],
   "source": []
  },
  {
   "cell_type": "code",
   "execution_count": 2,
   "id": "497d915d",
   "metadata": {},
   "outputs": [
    {
     "name": "stdout",
     "output_type": "stream",
     "text": [
      "                                                Title            Category  \\\n",
      "0                                A Light in the Attic              Poetry   \n",
      "1                                  Tipping the Velvet  Historical Fiction   \n",
      "2                                          Soumission             Fiction   \n",
      "3                                       Sharp Objects             Mystery   \n",
      "4               Sapiens: A Brief History of Humankind             History   \n",
      "5                                     The Requiem Red         Young Adult   \n",
      "6   The Dirty Little Secrets of Getting Your Dream...            Business   \n",
      "7   The Coming Woman: A Novel Based on the Life of...             Default   \n",
      "8   The Boys in the Boat: Nine Americans and Their...             Default   \n",
      "9                                     The Black Maria              Poetry   \n",
      "10     Starving Hearts (Triangular Trade Trilogy, #1)             Default   \n",
      "11                              Shakespeare's Sonnets              Poetry   \n",
      "12                                        Set Me Free         Young Adult   \n",
      "13  Scott Pilgrim's Precious Little Life (Scott Pi...      Sequential Art   \n",
      "14                          Rip it Up and Start Again               Music   \n",
      "\n",
      "   Rating  Price Availablility Available_quantity  \n",
      "0   THREE  51.77     In stock                  22  \n",
      "1     ONE  53.74     In stock                  20  \n",
      "2     ONE  50.10     In stock                  20  \n",
      "3    FOUR  47.82     In stock                  20  \n",
      "4    FIVE  54.23     In stock                  20  \n",
      "5     ONE  22.65     In stock                  19  \n",
      "6    FOUR  33.34     In stock                  19  \n",
      "7   THREE  17.93     In stock                  19  \n",
      "8    FOUR  22.60     In stock                  19  \n",
      "9     ONE  52.15     In stock                  19  \n",
      "10    TWO  13.99     In stock                  19  \n",
      "11   FOUR  20.66     In stock                  19  \n",
      "12   FIVE  17.46     In stock                  19  \n",
      "13   FIVE  52.29     In stock                  19  \n",
      "14   FIVE  35.02     In stock                  19  \n"
     ]
    }
   ],
   "source": [
    "file_path = 'myScrap.csv'\n",
    "\n",
    "# Read the CSV file into a DataFrame\n",
    "df = pd.read_csv(file_path)\n",
    "\n",
    "\n",
    "\n",
    "\n",
    "#1)Split the Available column into TWO columns As Availability and Available_quantity\n",
    "\n",
    "# Extract 'Available' and 'Available_quantity' from 'Availability' column\n",
    "availability_pattern = r'(\\D+)(\\d+) available'\n",
    "df[['Availablility', 'Available_quantity']] = df['Availability'].str.extract(availability_pattern)\n",
    "\n",
    "\n",
    "# Drop the original 'Availability' column\n",
    "df = df.drop(columns=['Availability'])\n",
    "\n",
    "\n",
    "\n",
    "\n",
    "\n",
    "#2)Removing symbol\n",
    "\n",
    "# Remove the currency symbol and any non-numeric characters from the 'Price' column\n",
    "df['Price'] = df['Price'].replace('[^\\d.]', '', regex=True).astype(float)\n",
    "\n",
    "\n",
    "\n",
    "\n",
    "#3)Removing parenthesis \n",
    "\n",
    "# Remove the opening parenthesis '(' from the 'Availability' column\n",
    "#df['Availablility'] = df['Availablility'].str.replace('(', '')\n",
    "df['Availablility'] = df['Availablility'].str.replace('(','',regex = False)\n",
    "\n",
    "\n",
    "\n",
    "\n",
    "#4)Convert to the Uppercase\n",
    "\n",
    "# Convert 'Rating' column data to uppercase\n",
    "df['Rating'] = df['Rating'].str.upper()\n",
    "\n",
    "\n",
    "\n",
    "\n",
    "#5) Dropping the unwanted column\n",
    "\n",
    "# Drop the unnamed column\n",
    "df = df.drop(columns=df.columns[df.columns.str.contains('Unnamed')])\n",
    "\n",
    "\n",
    "\n",
    "# Display the updated DataFrame\n",
    "print(df.head(15))\n",
    "\n"
   ]
  },
  {
   "cell_type": "code",
   "execution_count": 3,
   "id": "51e8e5f2",
   "metadata": {},
   "outputs": [],
   "source": [
    "df.to_csv(\"newScrap.csv\", index=False,)"
   ]
  }
 ],
 "metadata": {
  "kernelspec": {
   "display_name": "Python 3 (ipykernel)",
   "language": "python",
   "name": "python3"
  },
  "language_info": {
   "codemirror_mode": {
    "name": "ipython",
    "version": 3
   },
   "file_extension": ".py",
   "mimetype": "text/x-python",
   "name": "python",
   "nbconvert_exporter": "python",
   "pygments_lexer": "ipython3",
   "version": "3.11.4"
  }
 },
 "nbformat": 4,
 "nbformat_minor": 5
}
