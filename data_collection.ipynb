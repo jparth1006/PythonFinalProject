{
 "cells": [
  {
   "cell_type": "code",
   "execution_count": 1,
   "id": "2e811212",
   "metadata": {},
   "outputs": [],
   "source": [
    "from bs4 import BeautifulSoup\n",
    "import requests\n",
    "import csv\n",
    "import pandas as pd\n",
    "import time\n"
   ]
  },
  {
   "cell_type": "code",
   "execution_count": null,
   "id": "92520493",
   "metadata": {},
   "outputs": [],
   "source": []
  },
  {
   "cell_type": "code",
   "execution_count": 2,
   "id": "222e7516",
   "metadata": {},
   "outputs": [
    {
     "name": "stdout",
     "output_type": "stream",
     "text": [
      "scuessfull\n"
     ]
    }
   ],
   "source": [
    "url = 'https://books.toscrape.com/'\n",
    "response = requests.get(url)\n",
    "if response.status_code == 200:\n",
    "    print(\"scuessfull\")\n",
    "else:\n",
    "    print(\"failed\")"
   ]
  },
  {
   "cell_type": "code",
   "execution_count": null,
   "id": "a4e4bb9f",
   "metadata": {},
   "outputs": [],
   "source": []
  },
  {
   "cell_type": "code",
   "execution_count": 3,
   "id": "9847d92b",
   "metadata": {},
   "outputs": [],
   "source": [
    "soup = BeautifulSoup(response.text,\"html.parser\")\n"
   ]
  },
  {
   "cell_type": "code",
   "execution_count": null,
   "id": "15cb62fe",
   "metadata": {},
   "outputs": [],
   "source": []
  },
  {
   "cell_type": "code",
   "execution_count": 4,
   "id": "16382071",
   "metadata": {},
   "outputs": [],
   "source": [
    "books = soup.find_all('h3')\n",
    "\n",
    "start_time = time.time()\n",
    "books_extracted = 0\n",
    "\n",
    "for book in books:\n",
    "    book_url = book.find('a')['href']\n",
    "    book_response = requests.get(url + book_url)\n",
    "    book_soup = BeautifulSoup(book_response.content,\"html.parser\")\n",
    "    \n",
    "    title = book_soup.find('h1').text\n",
    "    category = book_soup.find('ul', class_=\"breadcrumb\").find_all('a')[2].text.strip()\n",
    "    rating = book_soup.find('p', class_=\"star-rating\")['class'][1]\n",
    "    price = book_soup.find('p', class_=\"price_color\").text.strip()\n",
    "    availability = book_soup.find('p', class_='availability').text.strip()\n",
    "    \n",
    "    books_extracted += 1\n",
    "    \n",
    "    end_time = time.time()\n",
    "    total_time = (end_time-start_time)/60.0\n",
    "    \n",
    "    "
   ]
  },
  {
   "cell_type": "code",
   "execution_count": null,
   "id": "1bfd8ea3",
   "metadata": {},
   "outputs": [],
   "source": []
  },
  {
   "cell_type": "code",
   "execution_count": 5,
   "id": "5f8c5f12",
   "metadata": {},
   "outputs": [],
   "source": [
    "books_data = []\n",
    "\n",
    "for page_num in range(1,51):\n",
    "    url = f'http://books.toscrape.com/catalogue/page-{page_num}.html'\n",
    "    response = requests.get(url)\n",
    "    soup = BeautifulSoup(response.content,'html.parser')\n",
    "    \n",
    "    books = soup.find_all('h3')\n",
    "    start_time = time.time()\n",
    "    books_extracted = 0\n",
    "    \n",
    "    for book in books:\n",
    "        book_url = book.find('a')['href']\n",
    "        book_response = requests.get('http://books.toscrape.com/catalogue/' + book_url)\n",
    "        book_soup = BeautifulSoup(book_response.content,\"html.parser\")\n",
    "        \n",
    "        title = book_soup.find('h1').text\n",
    "        category = book_soup.find('ul', class_=\"breadcrumb\").find_all('a')[2].text.strip()\n",
    "        rating = book_soup.find('p', class_='star-rating')['class'][1]\n",
    "        price = book_soup.find('p', class_='price_color').text.strip()\n",
    "        availability = book_soup.find('p', class_='availability').text.strip()\n",
    "        \n",
    "        end_time = time.time()\n",
    "        total_time = (end_time-start_time)/60.0\n",
    "        \n",
    "        books_data.append([title,category,rating,price,availability])\n",
    "        "
   ]
  },
  {
   "cell_type": "code",
   "execution_count": null,
   "id": "c27b82a6",
   "metadata": {},
   "outputs": [],
   "source": []
  },
  {
   "cell_type": "code",
   "execution_count": 6,
   "id": "bb3aaaf6",
   "metadata": {},
   "outputs": [],
   "source": [
    "df = pd.DataFrame(books_data, columns=[\"Title\",\"Category\",\"Rating\",\"Price\",\"Availability\"])"
   ]
  },
  {
   "cell_type": "code",
   "execution_count": 7,
   "id": "60e28666",
   "metadata": {},
   "outputs": [],
   "source": [
    "df.to_csv('myScrap.csv')"
   ]
  },
  {
   "cell_type": "code",
   "execution_count": null,
   "id": "b7a6cd0d",
   "metadata": {},
   "outputs": [],
   "source": []
  },
  {
   "cell_type": "code",
   "execution_count": null,
   "id": "08b55565",
   "metadata": {},
   "outputs": [],
   "source": []
  }
 ],
 "metadata": {
  "kernelspec": {
   "display_name": "Python 3 (ipykernel)",
   "language": "python",
   "name": "python3"
  },
  "language_info": {
   "codemirror_mode": {
    "name": "ipython",
    "version": 3
   },
   "file_extension": ".py",
   "mimetype": "text/x-python",
   "name": "python",
   "nbconvert_exporter": "python",
   "pygments_lexer": "ipython3",
   "version": "3.11.4"
  }
 },
 "nbformat": 4,
 "nbformat_minor": 5
}
